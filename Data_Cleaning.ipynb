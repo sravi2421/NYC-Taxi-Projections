{
 "cells": [
  {
   "cell_type": "code",
   "execution_count": 1,
   "metadata": {
    "collapsed": true
   },
   "outputs": [],
   "source": [
    "import pandas as pd\n",
    "import sklearn\n",
    "import pickle\n",
    "import matplotlib.pyplot as plt\n",
    "from time import time\n",
    "from datetime import datetime\n",
    "from datetime import timedelta\n",
    "import seaborn as sns\n",
    "import numpy as np\n",
    "import holidays\n",
    "import calendar\n",
    "\n",
    "%matplotlib inline"
   ]
  },
  {
   "cell_type": "code",
   "execution_count": 2,
   "metadata": {
    "collapsed": true
   },
   "outputs": [],
   "source": [
    "df = pickle.load(open('../pickles/2015_2016_taxis.pkl', 'rb'))\n",
    "taxi_zone_key = pd.read_csv('../taxi_project/taxi_zones_selected.csv')\n",
    "neighbs = list(taxi_zone_key.LocationID)\n",
    "df = df[df['pickup_taxizone_id'].isin(neighbs)].reset_index()\n",
    "df = df.drop(['index'],axis=1)"
   ]
  },
  {
   "cell_type": "code",
   "execution_count": 3,
   "metadata": {},
   "outputs": [
    {
     "name": "stdout",
     "output_type": "stream",
     "text": [
      "(467331, 5)\n"
     ]
    },
    {
     "data": {
      "text/html": [
       "<div>\n",
       "<style>\n",
       "    .dataframe thead tr:only-child th {\n",
       "        text-align: right;\n",
       "    }\n",
       "\n",
       "    .dataframe thead th {\n",
       "        text-align: left;\n",
       "    }\n",
       "\n",
       "    .dataframe tbody tr th {\n",
       "        vertical-align: top;\n",
       "    }\n",
       "</style>\n",
       "<table border=\"1\" class=\"dataframe\">\n",
       "  <thead>\n",
       "    <tr style=\"text-align: right;\">\n",
       "      <th></th>\n",
       "      <th>pickup_datetime</th>\n",
       "      <th>pickup_taxizone_id</th>\n",
       "      <th>rides</th>\n",
       "      <th>sum_fares</th>\n",
       "      <th>borough</th>\n",
       "    </tr>\n",
       "  </thead>\n",
       "  <tbody>\n",
       "    <tr>\n",
       "      <th>0</th>\n",
       "      <td>2016-04-01</td>\n",
       "      <td>4.0</td>\n",
       "      <td>74</td>\n",
       "      <td>1285.21</td>\n",
       "      <td>Manhattan</td>\n",
       "    </tr>\n",
       "    <tr>\n",
       "      <th>1</th>\n",
       "      <td>2016-04-01</td>\n",
       "      <td>12.0</td>\n",
       "      <td>2</td>\n",
       "      <td>46.05</td>\n",
       "      <td>Manhattan</td>\n",
       "    </tr>\n",
       "    <tr>\n",
       "      <th>2</th>\n",
       "      <td>2016-04-01</td>\n",
       "      <td>13.0</td>\n",
       "      <td>52</td>\n",
       "      <td>934.69</td>\n",
       "      <td>Manhattan</td>\n",
       "    </tr>\n",
       "    <tr>\n",
       "      <th>3</th>\n",
       "      <td>2016-04-01</td>\n",
       "      <td>24.0</td>\n",
       "      <td>32</td>\n",
       "      <td>459.65</td>\n",
       "      <td>Manhattan</td>\n",
       "    </tr>\n",
       "    <tr>\n",
       "      <th>4</th>\n",
       "      <td>2016-04-01</td>\n",
       "      <td>43.0</td>\n",
       "      <td>72</td>\n",
       "      <td>1381.41</td>\n",
       "      <td>Manhattan</td>\n",
       "    </tr>\n",
       "  </tbody>\n",
       "</table>\n",
       "</div>"
      ],
      "text/plain": [
       "  pickup_datetime  pickup_taxizone_id  rides  sum_fares    borough\n",
       "0      2016-04-01                 4.0     74    1285.21  Manhattan\n",
       "1      2016-04-01                12.0      2      46.05  Manhattan\n",
       "2      2016-04-01                13.0     52     934.69  Manhattan\n",
       "3      2016-04-01                24.0     32     459.65  Manhattan\n",
       "4      2016-04-01                43.0     72    1381.41  Manhattan"
      ]
     },
     "execution_count": 3,
     "metadata": {},
     "output_type": "execute_result"
    }
   ],
   "source": [
    "print(df.shape)\n",
    "df.head()"
   ]
  },
  {
   "cell_type": "code",
   "execution_count": 4,
   "metadata": {
    "collapsed": true
   },
   "outputs": [],
   "source": [
    "neighbs = taxi_zone_key[['LocationID','Zone']].to_dict()\n",
    "neighb_key = {neighbs['LocationID'][m]: neighbs['Zone'][m] for m in neighbs['LocationID'].keys()}"
   ]
  },
  {
   "cell_type": "code",
   "execution_count": 5,
   "metadata": {},
   "outputs": [
    {
     "name": "stdout",
     "output_type": "stream",
     "text": [
      "0.795602810382843 minutes\n"
     ]
    },
    {
     "data": {
      "text/html": [
       "<div>\n",
       "<style>\n",
       "    .dataframe thead tr:only-child th {\n",
       "        text-align: right;\n",
       "    }\n",
       "\n",
       "    .dataframe thead th {\n",
       "        text-align: left;\n",
       "    }\n",
       "\n",
       "    .dataframe tbody tr th {\n",
       "        vertical-align: top;\n",
       "    }\n",
       "</style>\n",
       "<table border=\"1\" class=\"dataframe\">\n",
       "  <thead>\n",
       "    <tr style=\"text-align: right;\">\n",
       "      <th></th>\n",
       "      <th>pickup_datetime</th>\n",
       "      <th>pickup_taxizone_id</th>\n",
       "      <th>rides</th>\n",
       "      <th>sum_fares</th>\n",
       "      <th>borough</th>\n",
       "      <th>neighb</th>\n",
       "    </tr>\n",
       "  </thead>\n",
       "  <tbody>\n",
       "    <tr>\n",
       "      <th>0</th>\n",
       "      <td>2016-04-01</td>\n",
       "      <td>4.0</td>\n",
       "      <td>74</td>\n",
       "      <td>1285.21</td>\n",
       "      <td>Manhattan</td>\n",
       "      <td>Alphabet City</td>\n",
       "    </tr>\n",
       "    <tr>\n",
       "      <th>1</th>\n",
       "      <td>2016-04-01</td>\n",
       "      <td>12.0</td>\n",
       "      <td>2</td>\n",
       "      <td>46.05</td>\n",
       "      <td>Manhattan</td>\n",
       "      <td>Battery Park</td>\n",
       "    </tr>\n",
       "    <tr>\n",
       "      <th>2</th>\n",
       "      <td>2016-04-01</td>\n",
       "      <td>13.0</td>\n",
       "      <td>52</td>\n",
       "      <td>934.69</td>\n",
       "      <td>Manhattan</td>\n",
       "      <td>Battery Park City</td>\n",
       "    </tr>\n",
       "    <tr>\n",
       "      <th>3</th>\n",
       "      <td>2016-04-01</td>\n",
       "      <td>24.0</td>\n",
       "      <td>32</td>\n",
       "      <td>459.65</td>\n",
       "      <td>Manhattan</td>\n",
       "      <td>Bloomingdale</td>\n",
       "    </tr>\n",
       "    <tr>\n",
       "      <th>4</th>\n",
       "      <td>2016-04-01</td>\n",
       "      <td>43.0</td>\n",
       "      <td>72</td>\n",
       "      <td>1381.41</td>\n",
       "      <td>Manhattan</td>\n",
       "      <td>Central Park</td>\n",
       "    </tr>\n",
       "  </tbody>\n",
       "</table>\n",
       "</div>"
      ],
      "text/plain": [
       "  pickup_datetime  pickup_taxizone_id  rides  sum_fares    borough  \\\n",
       "0      2016-04-01                 4.0     74    1285.21  Manhattan   \n",
       "1      2016-04-01                12.0      2      46.05  Manhattan   \n",
       "2      2016-04-01                13.0     52     934.69  Manhattan   \n",
       "3      2016-04-01                24.0     32     459.65  Manhattan   \n",
       "4      2016-04-01                43.0     72    1381.41  Manhattan   \n",
       "\n",
       "              neighb  \n",
       "0      Alphabet City  \n",
       "1       Battery Park  \n",
       "2  Battery Park City  \n",
       "3       Bloomingdale  \n",
       "4       Central Park  "
      ]
     },
     "execution_count": 5,
     "metadata": {},
     "output_type": "execute_result"
    }
   ],
   "source": [
    "#Add label for each neighborhood\n",
    "t0 = time()\n",
    "df['neighb'] = df.apply(lambda row: neighb_key[row['pickup_taxizone_id']], axis = 1)\n",
    "print((time()-t0)/60, 'minutes')\n",
    "df.head()"
   ]
  },
  {
   "cell_type": "code",
   "execution_count": 9,
   "metadata": {
    "collapsed": true
   },
   "outputs": [],
   "source": [
    "##Key for weather join(index 0), neighb types(index 1)\n",
    "neighb_key = {\"Alphabet City\":['Lower Manhattan', 'Residential'],\n",
    "'Battery Park':['Lower Manhattan', 'Park'],\n",
    "'Battery Park City':['Lower Manhattan', 'Commercial'],\n",
    "'Bloomingdale':['Upper Manhattan','Residential'],\n",
    "'Central Park':['Upper Manhattan','Park'],\n",
    "'Chinatown':['Lower Manhattan','Residential'],\n",
    "'Clinton East':['Upper Manhattan','Residential'],\n",
    "'Clinton West':['Upper Manhattan','Residential'],\n",
    "'East Chelsea':['Lower Manhattan','Commercial_1'],\n",
    "'East Village':['Lower Manhattan','Commercial_1'],\n",
    "'Financial District North':['Lower Manhattan','Commercial_2'],\n",
    "'Financial District South':['Lower Manhattan','Commercial_2'],\n",
    "'Flatiron':['Lower Manhattan','Commercial_1'],\n",
    "'Garment District':['Lower Manhattan','Commercial_1'],\n",
    "'Gramercy':['Lower Manhattan','Commercial_1'],\n",
    "'Greenwich Village North':['Lower Manhattan','Residential'],\n",
    "'Greenwich Village South':['Lower Manhattan','Residential'],\n",
    "'Hudson Sq':['Lower Manhattan','Residential'],\n",
    "'JFK Airport':['JFK','Airport'],\n",
    "'Kips Bay':['Lower Manhattan','Residential'],\n",
    "'LaGuardia Airport':['LGA','Airport'],\n",
    "'Lenox Hill East':['Upper Manhattan','Residential'],\n",
    "'Lenox Hill West':['Upper Manhattan','Residential'],\n",
    "'Lincoln Square East':['Upper Manhattan','Residential'],\n",
    "'Lincoln Square West':['Upper Manhattan','Residential'],\n",
    "'Little Italy/NoLiTa':['Lower Manhattan','Residential'],\n",
    "'Lower East Side':['Lower Manhattan','Residential'],\n",
    "'Manhattan Valley':['Upper Manhattan','Residential'],\n",
    "'Meatpacking/West Village West':['Lower Manhattan','Residential'],\n",
    "'Midtown Center':['Upper Manhattan','Commercial_2'],\n",
    "'Midtown East':['Upper Manhattan','Commercial_2'],\n",
    "'Midtown North':['Upper Manhattan','Commercial_2'],\n",
    "'Midtown South':['Upper Manhattan','Commercial_2'],\n",
    "'Murray Hill':['Upper Manhattan','Commercial_2'],\n",
    "'Penn Station/Madison Sq West':['Lower Manhattan','MSG'],\n",
    "'Seaport':['Lower Manhattan','Commercial_1'],\n",
    "'SoHo':['Lower Manhattan','Commercial_1'],\n",
    "'Stuy Town/Peter Cooper Village':['Lower Manhattan','Residential'],\n",
    "'Sutton Place/Turtle Bay North':['Upper Manhattan','Residential'],\n",
    "'Times Sq/Theatre District':['Upper Manhattan','Commercial_2'],\n",
    "'TriBeCa/Civic Center':['Lower Manhattan','Commercial_1'],\n",
    "'Two Bridges/Seward Park':['Upper Manhattan','Residential'],\n",
    "'UN/Turtle Bay South':['Upper Manhattan','Commercial_1'],\n",
    "'Union Sq':['Lower Manhattan','Commercial_1'],\n",
    "'Upper East Side North':['Upper Manhattan','Residential'],\n",
    "'Upper East Side South':['Upper Manhattan','Residential'],\n",
    "'Upper West Side North':['Upper Manhattan','Residential'],\n",
    "'Upper West Side South':['Upper Manhattan','Residential'],\n",
    "'West Chelsea/Hudson Yards':['Lower Manhattan', 'Commercial_1'],\n",
    "'West Village':['Lower Manhattan','Residential'],\n",
    "'World Trade Center':['Lower Manhattan','Commercial_2'],\n",
    "'Yorkville East':['Upper Manhattan','Residential'],\n",
    "'Yorkville West':['Upper Manhattan','Residential'],\n",
    "'Randalls Island':['Upper Manhattan','Residential'],\n",
    "\"Governor's Island/Ellis Island/Liberty Island\":['Upper Manhattan','Residential'],}\n",
    "\n",
    "def datetime_convert(d):\n",
    "    if d.hour<23:\n",
    "        return datetime(d.year,d.month,d.day,d.hour+1)\n",
    "    else:\n",
    "        d += timedelta(days=1)\n",
    "        return datetime(d.year,d.month,d.day,0)"
   ]
  },
  {
   "cell_type": "code",
   "execution_count": 11,
   "metadata": {},
   "outputs": [
    {
     "name": "stdout",
     "output_type": "stream",
     "text": [
      "0.015839405854543052 minutes\n"
     ]
    }
   ],
   "source": [
    "## read in weather data\n",
    "\n",
    "t0 = time()\n",
    "weather = pd.read_csv('../pickles/weather_final.csv')\n",
    "weather=weather.drop(['Unnamed: 0'],axis=1)\n",
    "weather['date_time'] = pd.to_datetime(weather['date_time'].str[:-6],infer_datetime_format=True)\n",
    "weather['date_time'] = weather['date_time'].apply(datetime_convert)\n",
    "print((time()-t0)/60, 'minutes')"
   ]
  },
  {
   "cell_type": "code",
   "execution_count": 12,
   "metadata": {},
   "outputs": [
    {
     "name": "stdout",
     "output_type": "stream",
     "text": [
      "0.672281543413798 minutes\n"
     ]
    }
   ],
   "source": [
    "## merge weather data with existing dataframe\n",
    "t0 = time()\n",
    "df['weather_zone'] = df.apply(lambda row: neighb_key[row['neighb']][0], axis = 1)\n",
    "weather = weather.rename(columns = {'zone':'weather_zone'})\n",
    "df = df.rename(columns={'pickup_datetime':'date_time'})\n",
    "df = pd.merge(df, weather,how = 'left', on = ['date_time','weather_zone'])\n",
    "print((time()-t0)/60, 'minutes')"
   ]
  },
  {
   "cell_type": "code",
   "execution_count": 14,
   "metadata": {},
   "outputs": [
    {
     "data": {
      "text/html": [
       "<div>\n",
       "<style>\n",
       "    .dataframe thead tr:only-child th {\n",
       "        text-align: right;\n",
       "    }\n",
       "\n",
       "    .dataframe thead th {\n",
       "        text-align: left;\n",
       "    }\n",
       "\n",
       "    .dataframe tbody tr th {\n",
       "        vertical-align: top;\n",
       "    }\n",
       "</style>\n",
       "<table border=\"1\" class=\"dataframe\">\n",
       "  <thead>\n",
       "    <tr style=\"text-align: right;\">\n",
       "      <th></th>\n",
       "      <th>zone</th>\n",
       "      <th>LocationID</th>\n",
       "      <th>borough</th>\n",
       "      <th>geometry</th>\n",
       "      <th>area</th>\n",
       "    </tr>\n",
       "  </thead>\n",
       "  <tbody>\n",
       "    <tr>\n",
       "      <th>0</th>\n",
       "      <td>Newark Airport</td>\n",
       "      <td>1</td>\n",
       "      <td>EWR</td>\n",
       "      <td>POLYGON ((-8258175.532737532 4939590.488999957...</td>\n",
       "      <td>12.736223</td>\n",
       "    </tr>\n",
       "    <tr>\n",
       "      <th>1</th>\n",
       "      <td>Jamaica Bay</td>\n",
       "      <td>2</td>\n",
       "      <td>Queens</td>\n",
       "      <td>(POLYGON ((-8217980.621910957 4931402.32096114...</td>\n",
       "      <td>23.137078</td>\n",
       "    </tr>\n",
       "    <tr>\n",
       "      <th>2</th>\n",
       "      <td>Allerton/Pelham Gardens</td>\n",
       "      <td>3</td>\n",
       "      <td>Bronx</td>\n",
       "      <td>POLYGON ((-8220713.534155379 4965416.648662397...</td>\n",
       "      <td>5.132194</td>\n",
       "    </tr>\n",
       "    <tr>\n",
       "      <th>3</th>\n",
       "      <td>Alphabet City</td>\n",
       "      <td>4</td>\n",
       "      <td>Manhattan</td>\n",
       "      <td>POLYGON ((-8234500.226961649 4944099.916942869...</td>\n",
       "      <td>1.294162</td>\n",
       "    </tr>\n",
       "    <tr>\n",
       "      <th>4</th>\n",
       "      <td>Arden Heights</td>\n",
       "      <td>5</td>\n",
       "      <td>Staten Island</td>\n",
       "      <td>POLYGON ((-8257036.10884249 4920241.492315316,...</td>\n",
       "      <td>8.089915</td>\n",
       "    </tr>\n",
       "  </tbody>\n",
       "</table>\n",
       "</div>"
      ],
      "text/plain": [
       "                      zone  LocationID        borough  \\\n",
       "0           Newark Airport           1            EWR   \n",
       "1              Jamaica Bay           2         Queens   \n",
       "2  Allerton/Pelham Gardens           3          Bronx   \n",
       "3            Alphabet City           4      Manhattan   \n",
       "4            Arden Heights           5  Staten Island   \n",
       "\n",
       "                                            geometry       area  \n",
       "0  POLYGON ((-8258175.532737532 4939590.488999957...  12.736223  \n",
       "1  (POLYGON ((-8217980.621910957 4931402.32096114...  23.137078  \n",
       "2  POLYGON ((-8220713.534155379 4965416.648662397...   5.132194  \n",
       "3  POLYGON ((-8234500.226961649 4944099.916942869...   1.294162  \n",
       "4  POLYGON ((-8257036.10884249 4920241.492315316,...   8.089915  "
      ]
     },
     "execution_count": 14,
     "metadata": {},
     "output_type": "execute_result"
    }
   ],
   "source": [
    "df = df.drop(['weather_zone','borough'],axis = 1)\n",
    "gdf = pickle.load(open('../pickles/gdf.pkl', 'rb'))\n",
    "gdf.head()"
   ]
  },
  {
   "cell_type": "code",
   "execution_count": 15,
   "metadata": {
    "collapsed": true
   },
   "outputs": [],
   "source": [
    "def day_of_week(day):\n",
    "    #encodes monday-thursday, as weekday, friday, saturday, sunday individually\n",
    "    m = day.weekday()\n",
    "    return calendar.day_name[m]\n",
    "    \n",
    "def dt_month(day):\n",
    "    #encodes monday-thursday, as weekday, friday, saturday, sunday individually\n",
    "    m = day.month\n",
    "    return calendar.month_name[m]"
   ]
  },
  {
   "cell_type": "code",
   "execution_count": 18,
   "metadata": {},
   "outputs": [
    {
     "name": "stdout",
     "output_type": "stream",
     "text": [
      "3.129712382952372 minutes\n"
     ]
    }
   ],
   "source": [
    "t0 = time()\n",
    "#create time of year and day metrics\n",
    "df['day_of_week'] = df['date_time'].apply(day_of_week)\n",
    "df = pd.merge(df,gdf[['LocationID','area']], how='left', left_on='pickup_taxizone_id', right_on='LocationID')\n",
    "df = df.drop(['zip_code','LocationID'],axis=1)\n",
    "df['month'] = df['date_time'].apply(dt_month)\n",
    "df['time_of_day'] = df.apply(lambda row: row['date_time'].strftime('%H:%M'), axis=1)\n",
    "#create area controlled metrics\n",
    "df['rides_per_sqkm'] = df.apply(lambda row: row['rides']/row['area'], axis=1)\n",
    "df['fares_per_sqkm'] = df.apply(lambda row: row['sum_fares']/row['area'], axis=1)\n",
    "df = df.drop(['area'],axiprint(df.shape)\n",
    "df = df.dropna()"
   ]
  },
  {
   "cell_type": "code",
   "execution_count": 19,
   "metadata": {},
   "outputs": [
    {
     "name": "stdout",
     "output_type": "stream",
     "text": [
      "(467391, 14)\n",
      "(459908, 14)\n"
     ]
    }
   ],
   "source": [
    "print(df.shape)\n",
    "df = df.dropna()\n",
    "df = df[df['sum_fares']>5]\n",
    "print(df.shape)"
   ]
  },
  {
   "cell_type": "code",
   "execution_count": 22,
   "metadata": {
    "collapsed": true
   },
   "outputs": [],
   "source": [
    "#Read in events data\n",
    "events = pd.read_csv('../pickles/events.csv')\n",
    "events= events[['date','type']]\n",
    "events['date'] = pd.to_datetime(events['date'])\n",
    "events['hour'] = events.apply(lambda row: row['date'].hour, axis = 1)\n",
    "events['date'] = events.apply(lambda row: datetime(row['date'].year,row['date'].month, row['date'].day, 12) if row['hour']==0 else row['date'], axis = 1)"
   ]
  },
  {
   "cell_type": "code",
   "execution_count": 24,
   "metadata": {
    "collapsed": true
   },
   "outputs": [],
   "source": [
    "#For events at Madison Square Garden I had scraped all concerts, Rangers and Knicks games.  \n",
    "#With those in hand I created two columns, one indicating that an event_start, and event_end which were only applied\n",
    "#to observations at Penn Station.  IE if there was a knicks game starting at 7pm on 1/26/2016, the observations \n",
    "#for that evening would be as followed:\n",
    "##  Date_time             neighb                          fares_per_sqkm       event_start       event_end\n",
    "##  1/26/2016 17:00:00    Penn Station/Madison Sq West     346873              none              none\n",
    "##  1/26/2016 18:00:00    Penn Station/Madison Sq West     282378              bball_s           none\n",
    "##  1/26/2016 19:00:00    Penn Station/Madison Sq West     253928              bball_s           none\n",
    "##  1/26/2016 20:00:00    Penn Station/Madison Sq West     145083              bball_s           none\n",
    "##  1/26/2016 21:00:00    Penn Station/Madison Sq West     198278              none              bball_e\n",
    "##  1/26/2016 22:00:00    Penn Station/Madison Sq West     382322              none              bball_e\n",
    "##  1/26/2016 23:00:00    Penn Station/Madison Sq West     201321              none              bball_e\n",
    "##  1/27/2016 00:00:00    Penn Station/Madison Sq West     110678              none              none\n",
    "\n",
    "#merge start time\n",
    "\n",
    "start_dates = []\n",
    "e_types=[]\n",
    "neighbs=[]\n",
    "for m in range(events.shape[0]):\n",
    "    e = events.iloc[m]\n",
    "    t = e['date']\n",
    "    start_dates.append(datetime(t.year, t.month, t.day, t.hour-1))\n",
    "    start_dates.append(datetime(t.year, t.month, t.day, t.hour))\n",
    "    start_dates.append(datetime(t.year, t.month, t.day, t.hour+1))\n",
    "    for m in range(3):\n",
    "        e_types.append(e['type']+'_s')#tag_s for later, when this becomes a category in the dummy matrix\n",
    "        neighbs.append('Penn Station/Madison Sq West')\n",
    "        \n",
    "start_times = pd.DataFrame({'date_time':start_dates, 'start_event':e_types, 'neighb':neighbs})\n"
   ]
  },
  {
   "cell_type": "code",
   "execution_count": 25,
   "metadata": {
    "collapsed": true
   },
   "outputs": [],
   "source": [
    "#merge end times\n",
    "end_dates = []\n",
    "e_types2=[]\n",
    "neighbs=[]\n",
    "for m in range(events.shape[0]):\n",
    "    e = events.iloc[m]\n",
    "    t = e['date']\n",
    "    end_dates.append(datetime(t.year, t.month, t.day, t.hour+2))\n",
    "    end_dates.append(datetime(t.year, t.month, t.day, t.hour+3))\n",
    "    try:\n",
    "        end_dates.append(datetime(t.year, t.month, t.day, t.hour+4))\n",
    "    except:\n",
    "        t += timedelta(days=1)\n",
    "        end_dates.append(datetime(t.year, t.month, t.day, 0))\n",
    "    for m in range(3):\n",
    "        e_types2.append(e['type']+'_e')\n",
    "        neighbs.append('Penn Station/Madison Sq West')\n",
    "\n",
    "end_times = pd.DataFrame({'date_time':end_dates, 'end_event':e_types2,'neighb':neighbs})"
   ]
  },
  {
   "cell_type": "code",
   "execution_count": 26,
   "metadata": {
    "collapsed": true
   },
   "outputs": [],
   "source": [
    "df = pd.merge(df, end_times, how='left', left_on=['date_time','neighb'], right_on=['date_time','neighb'])\n",
    "df['end_event'] = df['end_event'].fillna(value='None_s')\n",
    "\n",
    "df = pd.merge(df, start_times, how='left', left_on=['date_time','neighb'], right_on=['date_time','neighb'])\n",
    "df['start_event'] = df['start_event'].fillna(value='None_e')"
   ]
  },
  {
   "cell_type": "code",
   "execution_count": 27,
   "metadata": {},
   "outputs": [
    {
     "data": {
      "image/png": "[encoded data removed]",
      "text/plain": [
       "<matplotlib.figure.Figure at 0x7f9d30fee208>"
      ]
     },
     "metadata": {},
     "output_type": "display_data"
    }
   ],
   "source": [
    "columns = ['rides', 'sum_fares','rides_per_sqkm','fares_per_sqkm']\n",
    "fig, axarr = plt.subplots(2, 2,figsize=(18,8))\n",
    "fig.subplots_adjust(hspace=.5)\n",
    "\n",
    "i = 0\n",
    "j = 0\n",
    "for column in columns:\n",
    "    df[column].hist(bins = 25, ax =axarr[i,j])\n",
    "    axarr[i,j].set_title('Metric: %s' % column)\n",
    "    j += 1\n",
    "    if j == 2:\n",
    "        j = 0\n",
    "        i += 1"
   ]
  },
  {
   "cell_type": "code",
   "execution_count": 28,
   "metadata": {},
   "outputs": [
    {
     "name": "stdout",
     "output_type": "stream",
     "text": [
      "Randalls Island 2.04053109713\n",
      "0.538030322777\n",
      "------------------------\n",
      "Governor's Island/Ellis Island/Liberty Island 1.28571428571\n",
      "6.710506574\n",
      "------------------------\n"
     ]
    }
   ],
   "source": [
    "to_remove = []\n",
    "for neighb in df.neighb.unique():\n",
    "    m = df[df['neighb']==neighb].rides.mean()\n",
    "    if m<5:\n",
    "        print(neighb, df[df['neighb']==neighb].rides.mean())\n",
    "        print(df[df['neighb']==neighb].rides_per_sqkm.mean())\n",
    "        print ('------------------------')\n",
    "        to_remove.append(neighb)\n",
    "\n",
    "neighbs=list(df.neighb.unique())\n",
    "\n",
    "for n in to_remove:\n",
    "    neighbs.remove(n)\n",
    "df = df[df['neighb'].isin(neighbs)]\n",
    "\n",
    "df = df.reset_index(drop=True)"
   ]
  },
  {
   "cell_type": "code",
   "execution_count": 29,
   "metadata": {
    "collapsed": true
   },
   "outputs": [],
   "source": [
    "us_holidays = holidays.UnitedStates()\n",
    "\n",
    "df['holiday'] = df.apply(lambda row: 'holiday' if (row['date_time'] in us_holidays) else 'not_holiday', axis=1)"
   ]
  },
  {
   "cell_type": "code",
   "execution_count": 31,
   "metadata": {
    "collapsed": true
   },
   "outputs": [],
   "source": [
    "with open('../pickles/df_2015_16.pkl','wb') as f:\n",
    "    pickle.dump(df, f)"
   ]
  },
  {
   "cell_type": "code",
   "execution_count": 32,
   "metadata": {},
   "outputs": [
    {
     "data": {
      "image/png": "[encoded data removed]",
      "text/plain": [
       "<matplotlib.figure.Figure at 0x7f9d31f66710>"
      ]
     },
     "metadata": {},
     "output_type": "display_data"
    }
   ],
   "source": [
    "ax = sns.distplot(df['rides_per_sqkm'],kde=False)\n",
    "ax.set_title('Ride Density Histogram')\n",
    "plt.savefig('rides_hist.pdf')"
   ]
  }
 ],
 "metadata": {
  "kernelspec": {
   "display_name": "Python 3",
   "language": "python",
   "name": "python3"
  },
  "language_info": {
   "codemirror_mode": {
    "name": "ipython",
    "version": 3
   },
   "file_extension": ".py",
   "mimetype": "text/x-python",
   "name": "python",
   "nbconvert_exporter": "python",
   "pygments_lexer": "ipython3",
   "version": "3.6.2"
  }
 },
 "nbformat": 4,
 "nbformat_minor": 2
}
