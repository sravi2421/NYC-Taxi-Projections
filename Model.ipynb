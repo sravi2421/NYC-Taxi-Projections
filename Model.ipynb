{
 "cells": [
  {
   "cell_type": "code",
   "execution_count": 1,
   "metadata": {
    "collapsed": true
   },
   "outputs": [],
   "source": [
    "import pandas as pd\n",
    "import sklearn\n",
    "import pickle\n",
    "import matplotlib.pyplot as plt\n",
    "from time import time\n",
    "import seaborn as sns\n",
    "import numpy as np\n",
    "from copy import deepcopy\n",
    "%matplotlib inline"
   ]
  },
  {
   "cell_type": "code",
   "execution_count": 2,
   "metadata": {
    "collapsed": true
   },
   "outputs": [],
   "source": [
    "from sklearn.model_selection import train_test_split\n",
    "from sklearn.ensemble import RandomForestRegressor\n",
    "from sklearn import metrics\n",
    "from sklearn.model_selection import GridSearchCV"
   ]
  },
  {
   "cell_type": "code",
   "execution_count": 3,
   "metadata": {
    "collapsed": true
   },
   "outputs": [],
   "source": [
    "df = pickle.load(open('../pickles/df_2015_16.pkl','rb'))"
   ]
  },
  {
   "cell_type": "markdown",
   "metadata": {},
   "source": [
    "## Pickups Per Square Kilometer"
   ]
  },
  {
   "cell_type": "code",
   "execution_count": 4,
   "metadata": {
    "collapsed": true
   },
   "outputs": [],
   "source": [
    "X_columns = ['neighb','conditions', 'precip_count', 'temperature',\\\n",
    "             'day_of_week','month','time_of_day','neighb_type', 'start_event','end_event','holiday']\n",
    "y_column = ['rides_per_sqkm']\n",
    "\n",
    "X = df[X_columns]\n",
    "y = df[y_column]\n"
   ]
  },
  {
   "cell_type": "code",
   "execution_count": 5,
   "metadata": {
    "collapsed": true
   },
   "outputs": [],
   "source": [
    "to_encode = []\n",
    "for column in X_columns:\n",
    "    if type(X[column][0])==str:\n",
    "        to_encode.append(column)\n",
    "\n",
    "for c in to_encode:\n",
    "    encoded = pd.get_dummies(X[c])\n",
    "    X = pd.concat([X, encoded], axis=1)\n",
    "    X = X.drop([c],axis=1)\n",
    "    \n",
    "X = X.drop('MSG',axis=1)##Essentially a double entry on the same data, neighborhood"
   ]
  },
  {
   "cell_type": "code",
   "execution_count": 39,
   "metadata": {
    "scrolled": true
   },
   "outputs": [
    {
     "name": "stdout",
     "output_type": "stream",
     "text": [
      "273.67072337468466 minutes\n"
     ]
    }
   ],
   "source": [
    "t0 = time()\n",
    "\n",
    "regr = RandomForestRegressor()\n",
    "\n",
    "param_grid = { \n",
    "    'n_estimators': [100,200],\n",
    "    'max_features': ['auto'],\n",
    "    'min_samples_leaf':[2, 5]\n",
    "}\n",
    "\n",
    "CV_rfr = GridSearchCV(estimator=regr, param_grid=param_grid, cv= 5)\n",
    "CV_rfr.fit(X, np.ravel(y))\n",
    "\n",
    "print((time()-t0)/60, 'minutes')"
   ]
  },
  {
   "cell_type": "code",
   "execution_count": 43,
   "metadata": {},
   "outputs": [
    {
     "data": {
      "text/plain": [
       "RandomForestRegressor(bootstrap=True, criterion='mse', max_depth=None,\n",
       "           max_features='auto', max_leaf_nodes=None,\n",
       "           min_impurity_decrease=0.0, min_impurity_split=None,\n",
       "           min_samples_leaf=5, min_samples_split=2,\n",
       "           min_weight_fraction_leaf=0.0, n_estimators=200, n_jobs=1,\n",
       "           oob_score=False, random_state=None, verbose=0, warm_start=False)"
      ]
     },
     "execution_count": 43,
     "metadata": {},
     "output_type": "execute_result"
    }
   ],
   "source": [
    "CV_rfr.best_estimator_"
   ]
  },
  {
   "cell_type": "code",
   "execution_count": 6,
   "metadata": {},
   "outputs": [
    {
     "name": "stderr",
     "output_type": "stream",
     "text": [
      "/home/surajravi/miniconda/envs/taxis/lib/python3.6/site-packages/ipykernel_launcher.py:5: DataConversionWarning: A column-vector y was passed when a 1d array was expected. Please change the shape of y to (n_samples,), for example using ravel().\n",
      "  \"\"\"\n"
     ]
    },
    {
     "data": {
      "text/plain": [
       "0.95157309856001493"
      ]
     },
     "execution_count": 6,
     "metadata": {},
     "output_type": "execute_result"
    }
   ],
   "source": [
    "X_train, X_test, y_train, y_test = train_test_split(X, y, test_size=0.30)\n",
    "\n",
    "regr = RandomForestRegressor(min_samples_leaf=5, n_estimators=200)\n",
    "\n",
    "regr.fit(X_train, np.ravel(y_train))\n",
    "pred = regr.predict(X_test)\n",
    "regr.score(X_test, y_test)"
   ]
  },
  {
   "cell_type": "code",
   "execution_count": 16,
   "metadata": {},
   "outputs": [
    {
     "data": {
      "text/plain": [
       "<matplotlib.axes._subplots.AxesSubplot at 0x7f90c1282ba8>"
      ]
     },
     "execution_count": 16,
     "metadata": {},
     "output_type": "execute_result"
    },
    {
     "data": {
      "image/png": "[encoded data removed]",
      "text/plain": [
       "<matplotlib.figure.Figure at 0x7f90c6efada0>"
      ]
     },
     "metadata": {},
     "output_type": "display_data"
    }
   ],
   "source": [
    "#Plot most important features for model\n",
    "\n",
    "feat_importances = [(feat,m) for m, feat in enumerate(regr.feature_importances_)]\n",
    "feat_importances = sorted(feat_importances,reverse=True)\n",
    "features=[]\n",
    "feat_imp=[]\n",
    "for feat in feat_importances:\n",
    "    features.append(X_train.columns[feat[1]]) \n",
    "    feat_imp.append(feat[0])\n",
    "\n",
    "sns.barplot(y=features[:20], x = feat_imp[:20])"
   ]
  },
  {
   "cell_type": "code",
   "execution_count": 17,
   "metadata": {
    "collapsed": true
   },
   "outputs": [],
   "source": [
    "##Aggregate feature importances by type since most of the the features are currently one hot encoded\n",
    "\n",
    "neighborhoods = list(df.neighb.unique())\n",
    "weath_condition = list(df.conditions.unique())\n",
    "day_of_week = list(df.day_of_week.unique())\n",
    "months = list(df.month.unique())\n",
    "t_of_d = list(df.time_of_day.unique())\n",
    "neighb_type = list(df.neighb_type.unique())\n",
    "holidays = list(df.holiday.unique())\n",
    "events = list(df.end_event.unique())+list(df.start_event.unique())\n",
    "\n",
    "scores = {'neighborhood':0.0, 'time':0.0, 'day_of_week':0.0, 'month':0.0,'weath_condition':0.0,'neighb_type':0.0,\\\n",
    "         'precip_count': 0.0, 'temperature':0.0, 'events':0.0,'holiday':0.0}\n",
    "\n",
    "for feat, score in zip(features, feat_imp):\n",
    "    if feat in neighborhoods:\n",
    "        scores['neighborhood']+=score\n",
    "    elif feat in t_of_d:\n",
    "        scores['time']+=score\n",
    "    elif feat in day_of_week:\n",
    "        scores['day_of_week']+=score\n",
    "    elif feat in months:\n",
    "        scores['month']+=score\n",
    "    elif feat in weath_condition:\n",
    "        scores['weath_condition']+=score\n",
    "    elif feat in neighb_type:\n",
    "        scores['neighb_type']+=score\n",
    "    elif feat=='precip_count':\n",
    "        scores['precip_count']+=score\n",
    "    elif feat=='temperature':\n",
    "        scores['temperature']+=score\n",
    "    elif feat in events:\n",
    "        scores['events']+=score\n",
    "    elif feat in holidays:\n",
    "        scores['holiday']+=score\n",
    "    else:\n",
    "        print(feat, score)"
   ]
  },
  {
   "cell_type": "code",
   "execution_count": 18,
   "metadata": {},
   "outputs": [
    {
     "data": {
      "image/png": "[encoded data removed]",
      "text/plain": [
       "<matplotlib.figure.Figure at 0x7f914472ec18>"
      ]
     },
     "metadata": {},
     "output_type": "display_data"
    }
   ],
   "source": [
    "#Plot feature importances by type\n",
    "feat_importances_2 = [scores[key] for key in scores.keys()]\n",
    "features_2 = list(scores.keys())\n",
    "\n",
    "ax = sns.barplot(y= features_2, x = feat_importances_2)\n",
    "ax.set_title('Feature Importances')\n",
    "\n",
    "plt.savefig('Feature_importances.pdf')"
   ]
  },
  {
   "cell_type": "code",
   "execution_count": 19,
   "metadata": {},
   "outputs": [
    {
     "data": {
      "text/html": [
       "<div>\n",
       "<style>\n",
       "    .dataframe thead tr:only-child th {\n",
       "        text-align: right;\n",
       "    }\n",
       "\n",
       "    .dataframe thead th {\n",
       "        text-align: left;\n",
       "    }\n",
       "\n",
       "    .dataframe tbody tr th {\n",
       "        vertical-align: top;\n",
       "    }\n",
       "</style>\n",
       "<table border=\"1\" class=\"dataframe\">\n",
       "  <thead>\n",
       "    <tr style=\"text-align: right;\">\n",
       "      <th></th>\n",
       "      <th>feature</th>\n",
       "      <th>importance</th>\n",
       "      <th>feat_type</th>\n",
       "    </tr>\n",
       "  </thead>\n",
       "  <tbody>\n",
       "    <tr>\n",
       "      <th>0</th>\n",
       "      <td>Penn Station/Madison Sq West</td>\n",
       "      <td>0.128133</td>\n",
       "      <td>neighb</td>\n",
       "    </tr>\n",
       "    <tr>\n",
       "      <th>1</th>\n",
       "      <td>Garment District</td>\n",
       "      <td>0.027060</td>\n",
       "      <td>neighb</td>\n",
       "    </tr>\n",
       "    <tr>\n",
       "      <th>2</th>\n",
       "      <td>Financial District North</td>\n",
       "      <td>0.021424</td>\n",
       "      <td>neighb</td>\n",
       "    </tr>\n",
       "    <tr>\n",
       "      <th>3</th>\n",
       "      <td>Union Sq</td>\n",
       "      <td>0.019599</td>\n",
       "      <td>neighb</td>\n",
       "    </tr>\n",
       "    <tr>\n",
       "      <th>4</th>\n",
       "      <td>Financial District South</td>\n",
       "      <td>0.019330</td>\n",
       "      <td>neighb</td>\n",
       "    </tr>\n",
       "  </tbody>\n",
       "</table>\n",
       "</div>"
      ],
      "text/plain": [
       "                        feature  importance feat_type\n",
       "0  Penn Station/Madison Sq West    0.128133    neighb\n",
       "1              Garment District    0.027060    neighb\n",
       "2      Financial District North    0.021424    neighb\n",
       "3                      Union Sq    0.019599    neighb\n",
       "4      Financial District South    0.019330    neighb"
      ]
     },
     "execution_count": 19,
     "metadata": {},
     "output_type": "execute_result"
    }
   ],
   "source": [
    "## Create dataframes to view feature importances by type\n",
    "feature_rankings = pd.DataFrame(data = {'feature':features,'importance':feat_imp})\n",
    "\n",
    "column_key={'temperature':'temperature','precip_count':'precip_count'}\n",
    "for e in to_encode:\n",
    "    for unique in df[e].unique():\n",
    "        column_key[unique]=e\n",
    "        \n",
    "feature_rankings['feat_type'] = feature_rankings.apply(lambda row: column_key[row['feature']],axis=1)\n",
    "cat_ranked_dfs = {}\n",
    "\n",
    "for e in to_encode:\n",
    "    curr = feature_rankings[feature_rankings['feat_type']==e].reset_index(drop=True).iloc[:5]\n",
    "    cat_ranked_dfs[e] = curr\n",
    "    \n",
    "cat_ranked_dfs['neighb']"
   ]
  },
  {
   "cell_type": "code",
   "execution_count": 20,
   "metadata": {},
   "outputs": [
    {
     "data": {
      "image/png": "[encoded data removed]",
      "text/plain": [
       "<matplotlib.figure.Figure at 0x7f90c125d7b8>"
      ]
     },
     "metadata": {},
     "output_type": "display_data"
    }
   ],
   "source": [
    "#Plot most important Neighborhood features\n",
    "categ = 'neighb'\n",
    "long_name = 'Neighborhood'\n",
    "bar = sns.barplot(cat_ranked_dfs[categ]['importance'], cat_ranked_dfs[categ]['feature'],\\\n",
    "           palette = sns.color_palette(\"coolwarm\", 7))\n",
    "\n",
    "axes = bar.axes\n",
    "axes.set_xlim(0,.13)\n",
    "axes.set_xlabel('Feature Importance')\n",
    "axes.set_ylabel('Subcategory')\n",
    "plt.title('%s'% long_name)\n",
    "plt.show()\n"
   ]
  },
  {
   "cell_type": "code",
   "execution_count": 21,
   "metadata": {},
   "outputs": [
    {
     "data": {
      "image/png": "[encoded data removed]",
      "text/plain": [
       "<matplotlib.figure.Figure at 0x7f90be3b0710>"
      ]
     },
     "metadata": {},
     "output_type": "display_data"
    }
   ],
   "source": [
    "categ = 'time_of_day'\n",
    "long_name = 'Time of Day'\n",
    "bar = sns.barplot(cat_ranked_dfs[categ]['importance'], cat_ranked_dfs[categ]['feature'],\\\n",
    "           palette = sns.color_palette(\"coolwarm\", 7))\n",
    "\n",
    "axes = bar.axes\n",
    "axes.set_xlim(0,.08)\n",
    "axes.set_xlabel('Feature Importance')\n",
    "axes.set_ylabel('Subcategory')\n",
    "plt.title('%s'% long_name)\n",
    "\n",
    "plt.show()"
   ]
  },
  {
   "cell_type": "code",
   "execution_count": 22,
   "metadata": {},
   "outputs": [
    {
     "data": {
      "image/png": "[encoded data removed]",
      "text/plain": [
       "<matplotlib.figure.Figure at 0x7f90be885ba8>"
      ]
     },
     "metadata": {},
     "output_type": "display_data"
    }
   ],
   "source": [
    "categ = 'neighb_type'\n",
    "long_name = 'Neighborhood Type'\n",
    "bar = sns.barplot(cat_ranked_dfs[categ]['importance'], cat_ranked_dfs[categ]['feature'],\\\n",
    "           palette = sns.color_palette(\"coolwarm\", 7))\n",
    "\n",
    "axes = bar.axes\n",
    "axes.set_xlim(0,.13)\n",
    "axes.set_xlabel('Feature Importance')\n",
    "axes.set_ylabel('Subcategory')\n",
    "plt.title('%s'% long_name)\n",
    "\n",
    "plt.show()"
   ]
  },
  {
   "cell_type": "code",
   "execution_count": 23,
   "metadata": {},
   "outputs": [
    {
     "data": {
      "image/png": "[encoded data removed]",
      "text/plain": [
       "<matplotlib.figure.Figure at 0x7f90be87f9e8>"
      ]
     },
     "metadata": {},
     "output_type": "display_data"
    }
   ],
   "source": [
    "categ = 'conditions'\n",
    "long_name = 'Weather Conditions'\n",
    "bar = sns.barplot(cat_ranked_dfs[categ]['importance'], cat_ranked_dfs[categ]['feature'],\\\n",
    "           palette = sns.color_palette(\"coolwarm\", 7))\n",
    "\n",
    "axes = bar.axes\n",
    "axes.set_xlim(0,.08)\n",
    "axes.set_xlabel('Feature Importance')\n",
    "axes.set_ylabel('Subcategory')\n",
    "plt.title('%s'% long_name)\n",
    "\n",
    "plt.show()"
   ]
  },
  {
   "cell_type": "markdown",
   "metadata": {},
   "source": [
    "## View Residuals to Understand Issues"
   ]
  },
  {
   "cell_type": "code",
   "execution_count": 7,
   "metadata": {
    "collapsed": true
   },
   "outputs": [],
   "source": [
    "pred_all = regr.predict(X)"
   ]
  },
  {
   "cell_type": "code",
   "execution_count": 8,
   "metadata": {},
   "outputs": [
    {
     "name": "stderr",
     "output_type": "stream",
     "text": [
      "/home/surajravi/miniconda/envs/taxis/lib/python3.6/site-packages/ipykernel_launcher.py:3: SettingWithCopyWarning: \n",
      "A value is trying to be set on a copy of a slice from a DataFrame.\n",
      "Try using .loc[row_indexer,col_indexer] = value instead\n",
      "\n",
      "See the caveats in the documentation: http://pandas.pydata.org/pandas-docs/stable/indexing.html#indexing-view-versus-copy\n",
      "  This is separate from the ipykernel package so we can avoid doing imports until\n"
     ]
    }
   ],
   "source": [
    "columns = ['date_time','neighb','pickup_taxizone_id','day_of_week','time_of_day','rides_per_sqkm']\n",
    "predictions = df[columns]\n",
    "predictions['predictions'] = pred_all"
   ]
  },
  {
   "cell_type": "code",
   "execution_count": 9,
   "metadata": {},
   "outputs": [
    {
     "name": "stderr",
     "output_type": "stream",
     "text": [
      "/home/surajravi/miniconda/envs/taxis/lib/python3.6/site-packages/ipykernel_launcher.py:1: SettingWithCopyWarning: \n",
      "A value is trying to be set on a copy of a slice from a DataFrame.\n",
      "Try using .loc[row_indexer,col_indexer] = value instead\n",
      "\n",
      "See the caveats in the documentation: http://pandas.pydata.org/pandas-docs/stable/indexing.html#indexing-view-versus-copy\n",
      "  \"\"\"Entry point for launching an IPython kernel.\n",
      "/home/surajravi/miniconda/envs/taxis/lib/python3.6/site-packages/ipykernel_launcher.py:2: SettingWithCopyWarning: \n",
      "A value is trying to be set on a copy of a slice from a DataFrame.\n",
      "Try using .loc[row_indexer,col_indexer] = value instead\n",
      "\n",
      "See the caveats in the documentation: http://pandas.pydata.org/pandas-docs/stable/indexing.html#indexing-view-versus-copy\n",
      "  \n",
      "/home/surajravi/miniconda/envs/taxis/lib/python3.6/site-packages/ipykernel_launcher.py:3: SettingWithCopyWarning: \n",
      "A value is trying to be set on a copy of a slice from a DataFrame.\n",
      "Try using .loc[row_indexer,col_indexer] = value instead\n",
      "\n",
      "See the caveats in the documentation: http://pandas.pydata.org/pandas-docs/stable/indexing.html#indexing-view-versus-copy\n",
      "  This is separate from the ipykernel package so we can avoid doing imports until\n"
     ]
    },
    {
     "data": {
      "text/html": [
       "<div>\n",
       "<style>\n",
       "    .dataframe thead tr:only-child th {\n",
       "        text-align: right;\n",
       "    }\n",
       "\n",
       "    .dataframe thead th {\n",
       "        text-align: left;\n",
       "    }\n",
       "\n",
       "    .dataframe tbody tr th {\n",
       "        vertical-align: top;\n",
       "    }\n",
       "</style>\n",
       "<table border=\"1\" class=\"dataframe\">\n",
       "  <thead>\n",
       "    <tr style=\"text-align: right;\">\n",
       "      <th></th>\n",
       "      <th>date_time</th>\n",
       "      <th>neighb</th>\n",
       "      <th>pickup_taxizone_id</th>\n",
       "      <th>day_of_week</th>\n",
       "      <th>time_of_day</th>\n",
       "      <th>rides_per_sqkm</th>\n",
       "      <th>predictions</th>\n",
       "      <th>resid</th>\n",
       "      <th>resid_perc</th>\n",
       "      <th>over_under</th>\n",
       "    </tr>\n",
       "  </thead>\n",
       "  <tbody>\n",
       "    <tr>\n",
       "      <th>0</th>\n",
       "      <td>2016-04-01</td>\n",
       "      <td>Alphabet City</td>\n",
       "      <td>4</td>\n",
       "      <td>Friday</td>\n",
       "      <td>00:00</td>\n",
       "      <td>57.179855</td>\n",
       "      <td>51.715883</td>\n",
       "      <td>5.463972</td>\n",
       "      <td>0.095558</td>\n",
       "      <td>under</td>\n",
       "    </tr>\n",
       "    <tr>\n",
       "      <th>1</th>\n",
       "      <td>2016-04-01</td>\n",
       "      <td>Battery Park</td>\n",
       "      <td>12</td>\n",
       "      <td>Friday</td>\n",
       "      <td>00:00</td>\n",
       "      <td>11.387670</td>\n",
       "      <td>15.345210</td>\n",
       "      <td>3.957540</td>\n",
       "      <td>0.347528</td>\n",
       "      <td>over</td>\n",
       "    </tr>\n",
       "    <tr>\n",
       "      <th>2</th>\n",
       "      <td>2016-04-01</td>\n",
       "      <td>Battery Park City</td>\n",
       "      <td>13</td>\n",
       "      <td>Friday</td>\n",
       "      <td>00:00</td>\n",
       "      <td>65.512065</td>\n",
       "      <td>67.395780</td>\n",
       "      <td>1.883715</td>\n",
       "      <td>0.028754</td>\n",
       "      <td>over</td>\n",
       "    </tr>\n",
       "    <tr>\n",
       "      <th>3</th>\n",
       "      <td>2016-04-01</td>\n",
       "      <td>Bloomingdale</td>\n",
       "      <td>24</td>\n",
       "      <td>Friday</td>\n",
       "      <td>00:00</td>\n",
       "      <td>46.791308</td>\n",
       "      <td>44.483708</td>\n",
       "      <td>2.307600</td>\n",
       "      <td>0.049317</td>\n",
       "      <td>under</td>\n",
       "    </tr>\n",
       "    <tr>\n",
       "      <th>4</th>\n",
       "      <td>2016-04-01</td>\n",
       "      <td>Central Park</td>\n",
       "      <td>43</td>\n",
       "      <td>Friday</td>\n",
       "      <td>00:00</td>\n",
       "      <td>11.632536</td>\n",
       "      <td>14.797257</td>\n",
       "      <td>3.164721</td>\n",
       "      <td>0.272058</td>\n",
       "      <td>over</td>\n",
       "    </tr>\n",
       "  </tbody>\n",
       "</table>\n",
       "</div>"
      ],
      "text/plain": [
       "   date_time             neighb pickup_taxizone_id day_of_week time_of_day  \\\n",
       "0 2016-04-01      Alphabet City                  4      Friday       00:00   \n",
       "1 2016-04-01       Battery Park                 12      Friday       00:00   \n",
       "2 2016-04-01  Battery Park City                 13      Friday       00:00   \n",
       "3 2016-04-01       Bloomingdale                 24      Friday       00:00   \n",
       "4 2016-04-01       Central Park                 43      Friday       00:00   \n",
       "\n",
       "   rides_per_sqkm  predictions     resid  resid_perc over_under  \n",
       "0       57.179855    51.715883  5.463972    0.095558      under  \n",
       "1       11.387670    15.345210  3.957540    0.347528       over  \n",
       "2       65.512065    67.395780  1.883715    0.028754       over  \n",
       "3       46.791308    44.483708  2.307600    0.049317      under  \n",
       "4       11.632536    14.797257  3.164721    0.272058       over  "
      ]
     },
     "execution_count": 9,
     "metadata": {},
     "output_type": "execute_result"
    }
   ],
   "source": [
    "predictions['resid'] = predictions.apply(lambda row: abs(row['rides_per_sqkm']- row['predictions']),axis=1)\n",
    "predictions['resid_perc'] = predictions.apply(lambda row: row['resid']/row['rides_per_sqkm'], axis = 1)\n",
    "predictions['over_under'] = predictions.apply(lambda row: \"over\" if row['predictions']>row['rides_per_sqkm'] \\\n",
    "                                              else 'under', axis=1)\n",
    "predictions.head()"
   ]
  },
  {
   "cell_type": "code",
   "execution_count": 30,
   "metadata": {
    "collapsed": true,
    "scrolled": false
   },
   "outputs": [],
   "source": [
    "## Cycle through all Categorical Variables, see where the RMSE is still highest \n",
    "RMSEs = []\n",
    "X_cycle = deepcopy(X_columns)\n",
    "X_cycle.remove('precip_count') \n",
    "X_cycle.remove('temperature')\n",
    "\n",
    "for categ in X_cycle:\n",
    "    t = df[categ].unique()\n",
    "    for curr in t:\n",
    "        if curr =='MSG':\n",
    "            pass\n",
    "        test_indices = list(X_test.index)\n",
    "        curr_indices = list(df[df[categ]==curr].index)\n",
    "        curr_test_indices = list(set(test_indices) & set(curr_indices))\n",
    "        RMSE = np.sqrt(metrics.mean_squared_error(predictions.loc[curr_test_indices]['rides_per_sqkm'],\\\n",
    "                                                  predictions.loc[curr_test_indices]['predictions']))\n",
    "        RMSEs.append((RMSE, curr))"
   ]
  },
  {
   "cell_type": "code",
   "execution_count": 31,
   "metadata": {},
   "outputs": [
    {
     "name": "stdout",
     "output_type": "stream",
     "text": [
      "MSE: 2899.57314622\n",
      "RMSE: 53.8476846876\n"
     ]
    }
   ],
   "source": [
    "print(\"MSE:\",metrics.mean_squared_error(y_test, pred))\n",
    "print(\"RMSE:\",np.sqrt(metrics.mean_squared_error(y_test, pred)))"
   ]
  },
  {
   "cell_type": "code",
   "execution_count": 32,
   "metadata": {},
   "outputs": [
    {
     "data": {
      "text/plain": [
       "[(215.6752312329638, 'Concert_e'),\n",
       " (205.62481293086341, 'Hockey_e'),\n",
       " (198.10831658437723, 'Basketball_e'),\n",
       " (190.64026635033878, 'Hockey_s'),\n",
       " (184.08218261630378, 'Basketball_s'),\n",
       " (179.15896393383085, 'Snow'),\n",
       " (159.06109052517129, 'Penn Station/Madison Sq West'),\n",
       " (159.06109052517129, 'MSG'),\n",
       " (159.04016144067046, 'Concert_s'),\n",
       " (122.27740938014912, 'Midtown East')]"
      ]
     },
     "execution_count": 32,
     "metadata": {},
     "output_type": "execute_result"
    }
   ],
   "source": [
    "# Ten highest subcategories which the model struggled with\n",
    "sorted(RMSEs,reverse=True)[0:10]"
   ]
  },
  {
   "cell_type": "code",
   "execution_count": 26,
   "metadata": {},
   "outputs": [
    {
     "data": {
      "text/html": [
       "<div>\n",
       "<style>\n",
       "    .dataframe thead tr:only-child th {\n",
       "        text-align: right;\n",
       "    }\n",
       "\n",
       "    .dataframe thead th {\n",
       "        text-align: left;\n",
       "    }\n",
       "\n",
       "    .dataframe tbody tr th {\n",
       "        vertical-align: top;\n",
       "    }\n",
       "</style>\n",
       "<table border=\"1\" class=\"dataframe\">\n",
       "  <thead>\n",
       "    <tr style=\"text-align: right;\">\n",
       "      <th></th>\n",
       "      <th>neighb</th>\n",
       "      <th>date_time</th>\n",
       "      <th>day_of_week</th>\n",
       "      <th>time_of_day</th>\n",
       "      <th>rides_per_sqkm</th>\n",
       "      <th>predictions</th>\n",
       "      <th>resid</th>\n",
       "      <th>over_under</th>\n",
       "    </tr>\n",
       "  </thead>\n",
       "  <tbody>\n",
       "    <tr>\n",
       "      <th>254733</th>\n",
       "      <td>Penn Station/Madison Sq West</td>\n",
       "      <td>2015-11-25 00:00:00</td>\n",
       "      <td>Wednesday</td>\n",
       "      <td>00:00</td>\n",
       "      <td>1685.212531</td>\n",
       "      <td>386.947450</td>\n",
       "      <td>1298.265081</td>\n",
       "      <td>under</td>\n",
       "    </tr>\n",
       "    <tr>\n",
       "      <th>375477</th>\n",
       "      <td>Lower East Side</td>\n",
       "      <td>2016-01-24 02:00:00</td>\n",
       "      <td>Sunday</td>\n",
       "      <td>02:00</td>\n",
       "      <td>0.880279</td>\n",
       "      <td>1178.929970</td>\n",
       "      <td>1178.049691</td>\n",
       "      <td>over</td>\n",
       "    </tr>\n",
       "    <tr>\n",
       "      <th>82664</th>\n",
       "      <td>Lower East Side</td>\n",
       "      <td>2016-03-13 02:00:00</td>\n",
       "      <td>Sunday</td>\n",
       "      <td>02:00</td>\n",
       "      <td>1.760558</td>\n",
       "      <td>1169.708806</td>\n",
       "      <td>1167.948247</td>\n",
       "      <td>over</td>\n",
       "    </tr>\n",
       "    <tr>\n",
       "      <th>263796</th>\n",
       "      <td>Penn Station/Madison Sq West</td>\n",
       "      <td>2016-05-01 23:00:00</td>\n",
       "      <td>Sunday</td>\n",
       "      <td>23:00</td>\n",
       "      <td>2320.891914</td>\n",
       "      <td>1186.913116</td>\n",
       "      <td>1133.978797</td>\n",
       "      <td>under</td>\n",
       "    </tr>\n",
       "    <tr>\n",
       "      <th>375423</th>\n",
       "      <td>Midtown North</td>\n",
       "      <td>2016-01-23 18:00:00</td>\n",
       "      <td>Saturday</td>\n",
       "      <td>18:00</td>\n",
       "      <td>1.501741</td>\n",
       "      <td>1094.596837</td>\n",
       "      <td>1093.095096</td>\n",
       "      <td>over</td>\n",
       "    </tr>\n",
       "    <tr>\n",
       "      <th>260690</th>\n",
       "      <td>Penn Station/Madison Sq West</td>\n",
       "      <td>2015-11-29 22:00:00</td>\n",
       "      <td>Sunday</td>\n",
       "      <td>22:00</td>\n",
       "      <td>2850.624733</td>\n",
       "      <td>1789.504703</td>\n",
       "      <td>1061.120030</td>\n",
       "      <td>under</td>\n",
       "    </tr>\n",
       "    <tr>\n",
       "      <th>256366</th>\n",
       "      <td>Penn Station/Madison Sq West</td>\n",
       "      <td>2015-11-26 07:00:00</td>\n",
       "      <td>Thursday</td>\n",
       "      <td>07:00</td>\n",
       "      <td>188.717317</td>\n",
       "      <td>1232.470645</td>\n",
       "      <td>1043.753328</td>\n",
       "      <td>over</td>\n",
       "    </tr>\n",
       "    <tr>\n",
       "      <th>338983</th>\n",
       "      <td>Penn Station/Madison Sq West</td>\n",
       "      <td>2016-01-01 07:00:00</td>\n",
       "      <td>Friday</td>\n",
       "      <td>07:00</td>\n",
       "      <td>170.507751</td>\n",
       "      <td>1205.350885</td>\n",
       "      <td>1034.843134</td>\n",
       "      <td>over</td>\n",
       "    </tr>\n",
       "    <tr>\n",
       "      <th>375475</th>\n",
       "      <td>East Village</td>\n",
       "      <td>2016-01-24 02:00:00</td>\n",
       "      <td>Sunday</td>\n",
       "      <td>02:00</td>\n",
       "      <td>1.137988</td>\n",
       "      <td>1033.310480</td>\n",
       "      <td>1032.172492</td>\n",
       "      <td>over</td>\n",
       "    </tr>\n",
       "    <tr>\n",
       "      <th>309363</th>\n",
       "      <td>Penn Station/Madison Sq West</td>\n",
       "      <td>2015-09-07 21:00:00</td>\n",
       "      <td>Monday</td>\n",
       "      <td>21:00</td>\n",
       "      <td>2502.987570</td>\n",
       "      <td>1499.870613</td>\n",
       "      <td>1003.116957</td>\n",
       "      <td>under</td>\n",
       "    </tr>\n",
       "    <tr>\n",
       "      <th>397316</th>\n",
       "      <td>Lower East Side</td>\n",
       "      <td>2015-12-26 02:00:00</td>\n",
       "      <td>Saturday</td>\n",
       "      <td>02:00</td>\n",
       "      <td>106.513773</td>\n",
       "      <td>1089.930509</td>\n",
       "      <td>983.416736</td>\n",
       "      <td>over</td>\n",
       "    </tr>\n",
       "    <tr>\n",
       "      <th>387673</th>\n",
       "      <td>Penn Station/Madison Sq West</td>\n",
       "      <td>2015-12-25 07:00:00</td>\n",
       "      <td>Friday</td>\n",
       "      <td>07:00</td>\n",
       "      <td>122.500714</td>\n",
       "      <td>1104.792406</td>\n",
       "      <td>982.291691</td>\n",
       "      <td>over</td>\n",
       "    </tr>\n",
       "    <tr>\n",
       "      <th>255784</th>\n",
       "      <td>Midtown East</td>\n",
       "      <td>2015-11-25 20:00:00</td>\n",
       "      <td>Wednesday</td>\n",
       "      <td>20:00</td>\n",
       "      <td>664.965297</td>\n",
       "      <td>1645.292146</td>\n",
       "      <td>980.326849</td>\n",
       "      <td>over</td>\n",
       "    </tr>\n",
       "    <tr>\n",
       "      <th>397264</th>\n",
       "      <td>Lower East Side</td>\n",
       "      <td>2015-12-26 01:00:00</td>\n",
       "      <td>Saturday</td>\n",
       "      <td>01:00</td>\n",
       "      <td>117.957402</td>\n",
       "      <td>1096.634793</td>\n",
       "      <td>978.677391</td>\n",
       "      <td>over</td>\n",
       "    </tr>\n",
       "    <tr>\n",
       "      <th>332069</th>\n",
       "      <td>Penn Station/Madison Sq West</td>\n",
       "      <td>2015-09-25 19:00:00</td>\n",
       "      <td>Friday</td>\n",
       "      <td>19:00</td>\n",
       "      <td>384.056294</td>\n",
       "      <td>1360.741064</td>\n",
       "      <td>976.684770</td>\n",
       "      <td>over</td>\n",
       "    </tr>\n",
       "    <tr>\n",
       "      <th>339979</th>\n",
       "      <td>Lower East Side</td>\n",
       "      <td>2016-01-02 02:00:00</td>\n",
       "      <td>Saturday</td>\n",
       "      <td>02:00</td>\n",
       "      <td>374.998903</td>\n",
       "      <td>1346.110423</td>\n",
       "      <td>971.111519</td>\n",
       "      <td>over</td>\n",
       "    </tr>\n",
       "    <tr>\n",
       "      <th>224456</th>\n",
       "      <td>Murray Hill</td>\n",
       "      <td>2015-11-01 01:00:00</td>\n",
       "      <td>Sunday</td>\n",
       "      <td>01:00</td>\n",
       "      <td>1545.958452</td>\n",
       "      <td>580.500216</td>\n",
       "      <td>965.458236</td>\n",
       "      <td>under</td>\n",
       "    </tr>\n",
       "    <tr>\n",
       "      <th>255837</th>\n",
       "      <td>Midtown East</td>\n",
       "      <td>2015-11-25 21:00:00</td>\n",
       "      <td>Wednesday</td>\n",
       "      <td>21:00</td>\n",
       "      <td>481.747498</td>\n",
       "      <td>1433.098779</td>\n",
       "      <td>951.351280</td>\n",
       "      <td>over</td>\n",
       "    </tr>\n",
       "    <tr>\n",
       "      <th>257627</th>\n",
       "      <td>Penn Station/Madison Sq West</td>\n",
       "      <td>2015-11-27 07:00:00</td>\n",
       "      <td>Friday</td>\n",
       "      <td>07:00</td>\n",
       "      <td>395.644199</td>\n",
       "      <td>1344.872666</td>\n",
       "      <td>949.228467</td>\n",
       "      <td>over</td>\n",
       "    </tr>\n",
       "    <tr>\n",
       "      <th>224437</th>\n",
       "      <td>Gramercy</td>\n",
       "      <td>2015-11-01 01:00:00</td>\n",
       "      <td>Sunday</td>\n",
       "      <td>01:00</td>\n",
       "      <td>1633.041004</td>\n",
       "      <td>688.853374</td>\n",
       "      <td>944.187630</td>\n",
       "      <td>under</td>\n",
       "    </tr>\n",
       "  </tbody>\n",
       "</table>\n",
       "</div>"
      ],
      "text/plain": [
       "                              neighb           date_time day_of_week  \\\n",
       "254733  Penn Station/Madison Sq West 2015-11-25 00:00:00   Wednesday   \n",
       "375477               Lower East Side 2016-01-24 02:00:00      Sunday   \n",
       "82664                Lower East Side 2016-03-13 02:00:00      Sunday   \n",
       "263796  Penn Station/Madison Sq West 2016-05-01 23:00:00      Sunday   \n",
       "375423                 Midtown North 2016-01-23 18:00:00    Saturday   \n",
       "260690  Penn Station/Madison Sq West 2015-11-29 22:00:00      Sunday   \n",
       "256366  Penn Station/Madison Sq West 2015-11-26 07:00:00    Thursday   \n",
       "338983  Penn Station/Madison Sq West 2016-01-01 07:00:00      Friday   \n",
       "375475                  East Village 2016-01-24 02:00:00      Sunday   \n",
       "309363  Penn Station/Madison Sq West 2015-09-07 21:00:00      Monday   \n",
       "397316               Lower East Side 2015-12-26 02:00:00    Saturday   \n",
       "387673  Penn Station/Madison Sq West 2015-12-25 07:00:00      Friday   \n",
       "255784                  Midtown East 2015-11-25 20:00:00   Wednesday   \n",
       "397264               Lower East Side 2015-12-26 01:00:00    Saturday   \n",
       "332069  Penn Station/Madison Sq West 2015-09-25 19:00:00      Friday   \n",
       "339979               Lower East Side 2016-01-02 02:00:00    Saturday   \n",
       "224456                   Murray Hill 2015-11-01 01:00:00      Sunday   \n",
       "255837                  Midtown East 2015-11-25 21:00:00   Wednesday   \n",
       "257627  Penn Station/Madison Sq West 2015-11-27 07:00:00      Friday   \n",
       "224437                      Gramercy 2015-11-01 01:00:00      Sunday   \n",
       "\n",
       "       time_of_day  rides_per_sqkm  predictions        resid over_under  \n",
       "254733       00:00     1685.212531   386.947450  1298.265081      under  \n",
       "375477       02:00        0.880279  1178.929970  1178.049691       over  \n",
       "82664        02:00        1.760558  1169.708806  1167.948247       over  \n",
       "263796       23:00     2320.891914  1186.913116  1133.978797      under  \n",
       "375423       18:00        1.501741  1094.596837  1093.095096       over  \n",
       "260690       22:00     2850.624733  1789.504703  1061.120030      under  \n",
       "256366       07:00      188.717317  1232.470645  1043.753328       over  \n",
       "338983       07:00      170.507751  1205.350885  1034.843134       over  \n",
       "375475       02:00        1.137988  1033.310480  1032.172492       over  \n",
       "309363       21:00     2502.987570  1499.870613  1003.116957      under  \n",
       "397316       02:00      106.513773  1089.930509   983.416736       over  \n",
       "387673       07:00      122.500714  1104.792406   982.291691       over  \n",
       "255784       20:00      664.965297  1645.292146   980.326849       over  \n",
       "397264       01:00      117.957402  1096.634793   978.677391       over  \n",
       "332069       19:00      384.056294  1360.741064   976.684770       over  \n",
       "339979       02:00      374.998903  1346.110423   971.111519       over  \n",
       "224456       01:00     1545.958452   580.500216   965.458236      under  \n",
       "255837       21:00      481.747498  1433.098779   951.351280       over  \n",
       "257627       07:00      395.644199  1344.872666   949.228467       over  \n",
       "224437       01:00     1633.041004   688.853374   944.187630      under  "
      ]
     },
     "execution_count": 26,
     "metadata": {},
     "output_type": "execute_result"
    }
   ],
   "source": [
    "predictions[['neighb','date_time','day_of_week','time_of_day','rides_per_sqkm','predictions','resid','over_under']].\\\n",
    "sort_values('resid',ascending =False).head(20)"
   ]
  },
  {
   "cell_type": "code",
   "execution_count": 28,
   "metadata": {},
   "outputs": [
    {
     "data": {
      "text/html": [
       "<div>\n",
       "<style>\n",
       "    .dataframe thead tr:only-child th {\n",
       "        text-align: right;\n",
       "    }\n",
       "\n",
       "    .dataframe thead th {\n",
       "        text-align: left;\n",
       "    }\n",
       "\n",
       "    .dataframe tbody tr th {\n",
       "        vertical-align: top;\n",
       "    }\n",
       "</style>\n",
       "<table border=\"1\" class=\"dataframe\">\n",
       "  <thead>\n",
       "    <tr style=\"text-align: right;\">\n",
       "      <th></th>\n",
       "      <th>neighb</th>\n",
       "      <th>date_time</th>\n",
       "      <th>day_of_week</th>\n",
       "      <th>time_of_day</th>\n",
       "      <th>rides_per_sqkm</th>\n",
       "      <th>predictions</th>\n",
       "      <th>resid</th>\n",
       "      <th>over_under</th>\n",
       "    </tr>\n",
       "  </thead>\n",
       "  <tbody>\n",
       "    <tr>\n",
       "      <th>254733</th>\n",
       "      <td>Penn Station/Madison Sq West</td>\n",
       "      <td>2015-11-25 00:00:00</td>\n",
       "      <td>Wednesday</td>\n",
       "      <td>00:00</td>\n",
       "      <td>1685.212531</td>\n",
       "      <td>386.947450</td>\n",
       "      <td>1298.265081</td>\n",
       "      <td>under</td>\n",
       "    </tr>\n",
       "    <tr>\n",
       "      <th>263796</th>\n",
       "      <td>Penn Station/Madison Sq West</td>\n",
       "      <td>2016-05-01 23:00:00</td>\n",
       "      <td>Sunday</td>\n",
       "      <td>23:00</td>\n",
       "      <td>2320.891914</td>\n",
       "      <td>1186.913116</td>\n",
       "      <td>1133.978797</td>\n",
       "      <td>under</td>\n",
       "    </tr>\n",
       "    <tr>\n",
       "      <th>260690</th>\n",
       "      <td>Penn Station/Madison Sq West</td>\n",
       "      <td>2015-11-29 22:00:00</td>\n",
       "      <td>Sunday</td>\n",
       "      <td>22:00</td>\n",
       "      <td>2850.624733</td>\n",
       "      <td>1789.504703</td>\n",
       "      <td>1061.120030</td>\n",
       "      <td>under</td>\n",
       "    </tr>\n",
       "    <tr>\n",
       "      <th>256366</th>\n",
       "      <td>Penn Station/Madison Sq West</td>\n",
       "      <td>2015-11-26 07:00:00</td>\n",
       "      <td>Thursday</td>\n",
       "      <td>07:00</td>\n",
       "      <td>188.717317</td>\n",
       "      <td>1232.470645</td>\n",
       "      <td>1043.753328</td>\n",
       "      <td>over</td>\n",
       "    </tr>\n",
       "    <tr>\n",
       "      <th>338983</th>\n",
       "      <td>Penn Station/Madison Sq West</td>\n",
       "      <td>2016-01-01 07:00:00</td>\n",
       "      <td>Friday</td>\n",
       "      <td>07:00</td>\n",
       "      <td>170.507751</td>\n",
       "      <td>1205.350885</td>\n",
       "      <td>1034.843134</td>\n",
       "      <td>over</td>\n",
       "    </tr>\n",
       "    <tr>\n",
       "      <th>309363</th>\n",
       "      <td>Penn Station/Madison Sq West</td>\n",
       "      <td>2015-09-07 21:00:00</td>\n",
       "      <td>Monday</td>\n",
       "      <td>21:00</td>\n",
       "      <td>2502.987570</td>\n",
       "      <td>1499.870613</td>\n",
       "      <td>1003.116957</td>\n",
       "      <td>under</td>\n",
       "    </tr>\n",
       "    <tr>\n",
       "      <th>387673</th>\n",
       "      <td>Penn Station/Madison Sq West</td>\n",
       "      <td>2015-12-25 07:00:00</td>\n",
       "      <td>Friday</td>\n",
       "      <td>07:00</td>\n",
       "      <td>122.500714</td>\n",
       "      <td>1104.792406</td>\n",
       "      <td>982.291691</td>\n",
       "      <td>over</td>\n",
       "    </tr>\n",
       "    <tr>\n",
       "      <th>332069</th>\n",
       "      <td>Penn Station/Madison Sq West</td>\n",
       "      <td>2015-09-25 19:00:00</td>\n",
       "      <td>Friday</td>\n",
       "      <td>19:00</td>\n",
       "      <td>384.056294</td>\n",
       "      <td>1360.741064</td>\n",
       "      <td>976.684770</td>\n",
       "      <td>over</td>\n",
       "    </tr>\n",
       "    <tr>\n",
       "      <th>257627</th>\n",
       "      <td>Penn Station/Madison Sq West</td>\n",
       "      <td>2015-11-27 07:00:00</td>\n",
       "      <td>Friday</td>\n",
       "      <td>07:00</td>\n",
       "      <td>395.644199</td>\n",
       "      <td>1344.872666</td>\n",
       "      <td>949.228467</td>\n",
       "      <td>over</td>\n",
       "    </tr>\n",
       "    <tr>\n",
       "      <th>309310</th>\n",
       "      <td>Penn Station/Madison Sq West</td>\n",
       "      <td>2015-09-07 20:00:00</td>\n",
       "      <td>Monday</td>\n",
       "      <td>20:00</td>\n",
       "      <td>2445.048043</td>\n",
       "      <td>1507.063053</td>\n",
       "      <td>937.984990</td>\n",
       "      <td>under</td>\n",
       "    </tr>\n",
       "  </tbody>\n",
       "</table>\n",
       "</div>"
      ],
      "text/plain": [
       "                              neighb           date_time day_of_week  \\\n",
       "254733  Penn Station/Madison Sq West 2015-11-25 00:00:00   Wednesday   \n",
       "263796  Penn Station/Madison Sq West 2016-05-01 23:00:00      Sunday   \n",
       "260690  Penn Station/Madison Sq West 2015-11-29 22:00:00      Sunday   \n",
       "256366  Penn Station/Madison Sq West 2015-11-26 07:00:00    Thursday   \n",
       "338983  Penn Station/Madison Sq West 2016-01-01 07:00:00      Friday   \n",
       "309363  Penn Station/Madison Sq West 2015-09-07 21:00:00      Monday   \n",
       "387673  Penn Station/Madison Sq West 2015-12-25 07:00:00      Friday   \n",
       "332069  Penn Station/Madison Sq West 2015-09-25 19:00:00      Friday   \n",
       "257627  Penn Station/Madison Sq West 2015-11-27 07:00:00      Friday   \n",
       "309310  Penn Station/Madison Sq West 2015-09-07 20:00:00      Monday   \n",
       "\n",
       "       time_of_day  rides_per_sqkm  predictions        resid over_under  \n",
       "254733       00:00     1685.212531   386.947450  1298.265081      under  \n",
       "263796       23:00     2320.891914  1186.913116  1133.978797      under  \n",
       "260690       22:00     2850.624733  1789.504703  1061.120030      under  \n",
       "256366       07:00      188.717317  1232.470645  1043.753328       over  \n",
       "338983       07:00      170.507751  1205.350885  1034.843134       over  \n",
       "309363       21:00     2502.987570  1499.870613  1003.116957      under  \n",
       "387673       07:00      122.500714  1104.792406   982.291691       over  \n",
       "332069       19:00      384.056294  1360.741064   976.684770       over  \n",
       "257627       07:00      395.644199  1344.872666   949.228467       over  \n",
       "309310       20:00     2445.048043  1507.063053   937.984990      under  "
      ]
     },
     "execution_count": 28,
     "metadata": {},
     "output_type": "execute_result"
    }
   ],
   "source": [
    "predictions[predictions['neighb'] == 'Penn Station/Madison Sq West'][['neighb','date_time','day_of_week','time_of_day','rides_per_sqkm','predictions','resid','over_under']].\\\n",
    "sort_values('resid',ascending =False).head(10)"
   ]
  },
  {
   "cell_type": "code",
   "execution_count": null,
   "metadata": {
    "collapsed": true
   },
   "outputs": [],
   "source": [
    "#  All large penn station under predictions are extremely large events at MSG.  These large events are probably also\n",
    "#  providing additional variability making it harder for the model to predict any event at MSG\n",
    "#  11/25/2015 -- Stevie Wonder\n",
    "#  05/01/2016 -- Pearl Jam\n",
    "#  11/29/2015 -- Knicks, Rockets OT \n",
    "#  09/07/2015 -- U2"
   ]
  },
  {
   "cell_type": "code",
   "execution_count": 28,
   "metadata": {
    "collapsed": true
   },
   "outputs": [],
   "source": [
    "predictions.to_csv('../taxi_project/d3_projections.csv',index=False)"
   ]
  },
  {
   "cell_type": "code",
   "execution_count": null,
   "metadata": {
    "collapsed": true
   },
   "outputs": [],
   "source": [
    "# to export trees\n",
    "# from sklearn import tree\n",
    "\n",
    "# for i_tree, tree_in_forest in enumerate(regr.estimators_):\n",
    "#     with open('tree_' + str(i_tree) + '.dot', 'w') as my_file:\n",
    "#         my_file = tree.export_graphviz(tree_in_forest, out_file = my_file)"
   ]
  },
  {
   "cell_type": "markdown",
   "metadata": {
    "collapsed": true
   },
   "source": [
    "### Sum_fares"
   ]
  },
  {
   "cell_type": "code",
   "execution_count": 188,
   "metadata": {
    "collapsed": true
   },
   "outputs": [],
   "source": [
    "X_columns = ['neighb','conditions', 'precip_count', 'temperature',\\\n",
    "             'day_of_week','month','time_of_day','neighb_type', 'start_event','end_event','holiday']\n",
    "y_column = ['fares_per_sqkm']\n",
    "\n",
    "X = df[X_columns]\n",
    "y = df[y_column]"
   ]
  },
  {
   "cell_type": "code",
   "execution_count": 189,
   "metadata": {
    "collapsed": true
   },
   "outputs": [],
   "source": [
    "to_encode = []\n",
    "for column in X_columns:\n",
    "    if type(X[column][0])==str:\n",
    "        to_encode.append(column)\n",
    "\n",
    "for c in to_encode:\n",
    "    encoded = pd.get_dummies(X[c])\n",
    "    X = pd.concat([X, encoded], axis=1)\n",
    "    X = X.drop([c],axis=1)\n",
    "    \n",
    "X = X.drop('MSG',axis=1)##Essentially a double entry on the same data, neighborhood\n",
    "X_train, X_test, y_train, y_test = train_test_split(X, y, test_size=.30)"
   ]
  },
  {
   "cell_type": "code",
   "execution_count": 190,
   "metadata": {
    "scrolled": true
   },
   "outputs": [
    {
     "name": "stdout",
     "output_type": "stream",
     "text": [
      "0.848845374584198 minutes\n"
     ]
    }
   ],
   "source": [
    "t0 = time()\n",
    "regr = RandomForestRegressor()\n",
    "regr.fit(X_train, np.ravel(y_train))\n",
    "print((time()-t0)/60, 'minutes')"
   ]
  },
  {
   "cell_type": "code",
   "execution_count": 191,
   "metadata": {},
   "outputs": [
    {
     "data": {
      "text/plain": [
       "0.78875146188168499"
      ]
     },
     "execution_count": 191,
     "metadata": {},
     "output_type": "execute_result"
    }
   ],
   "source": [
    "pred = regr.predict(X_test)\n",
    "regr.score(X_test, y_test)"
   ]
  },
  {
   "cell_type": "code",
   "execution_count": 192,
   "metadata": {},
   "outputs": [
    {
     "data": {
      "text/plain": [
       "<matplotlib.axes._subplots.AxesSubplot at 0x7f11c87c1f28>"
      ]
     },
     "execution_count": 192,
     "metadata": {},
     "output_type": "execute_result"
    },
    {
     "data": {
      "image/png": "[encoded data removed]",
      "text/plain": [
       "<matplotlib.figure.Figure at 0x7f11c9308da0>"
      ]
     },
     "metadata": {},
     "output_type": "display_data"
    }
   ],
   "source": [
    "feat_importances = [(feat,m) for m, feat in enumerate(regr.feature_importances_)]\n",
    "feat_importances = sorted(feat_importances,reverse=True)\n",
    "features=[]\n",
    "feat_imp=[]\n",
    "for feat in feat_importances:\n",
    "    features.append(X_train.columns[feat[1]]) \n",
    "    feat_imp.append(feat[0])\n",
    "\n",
    "sns.barplot(y=features[:20], x = feat_imp[:20])"
   ]
  }
 ],
 "metadata": {
  "kernelspec": {
   "display_name": "Python 3",
   "language": "python",
   "name": "python3"
  },
  "language_info": {
   "codemirror_mode": {
    "name": "ipython",
    "version": 3
   },
   "file_extension": ".py",
   "mimetype": "text/x-python",
   "name": "python",
   "nbconvert_exporter": "python",
   "pygments_lexer": "ipython3",
   "version": "3.6.2"
  }
 },
 "nbformat": 4,
 "nbformat_minor": 2
}
